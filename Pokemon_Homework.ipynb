{
 "cells": [
  {
   "cell_type": "markdown",
   "metadata": {
    "id": "fK2SjXgoq_Tp"
   },
   "source": [
    "Take a look at PokeAPI: <a href=\"https://pokeapi.co/\">https://pokeapi.co/</a>.\n",
    "\n",
    "On this website you will see an API simulator. Trying any combination of correct possible server requests should yield you a successful result in the scrollable area. In this scrollable area is an exact server response you will get if you sent a response to it.\n",
    "\n",
    "Click on the `Documentation` tab, then click on v2. On the next page you'll see a bunch of words that seemingly make no sense. Just like with any API, there is documentation showing you how to use it. API documentation, by nature, is very wordy, overwhelming and almost never straightforward. You will find very few APIs that have simple documentation. Once you start to become a mid-senior level engineer, the little details in documentation will make all the difference in the quality of your results. Most people find API documentation difficult to navigate at first. Don't worry, it's normal.\n",
    "\n",
    "That being said, familiarize yourself with everything in the documentation and try to skim as much as possible to get a feel for where everything is before proceeding. "
   ]
  },
  {
   "cell_type": "markdown",
   "metadata": {
    "id": "MzLYqqcXq_Ty"
   },
   "source": [
    "<strong>`Objective`</strong>: There are several main Pokemon class types: Fire, Water, Grass, Rock, Electric. Your application will use PokeAPI to build your own API program. Compile a list of 30 total Pokemon that identify as the aforementioned class types. Each category will hold a list of Pokemon and their personal attributes and some statistics as follows. Make this program an object-oriented program:\n",
    "\n",
    "**Note** How you compile the list of Pokemon is entirely up to you. "
   ]
  },
  {
   "cell_type": "code",
   "execution_count": null,
   "metadata": {
    "id": "3y72fjpJq_T0"
   },
   "outputs": [],
   "source": [
    "# {\n",
    "#     \"Electric\": {\n",
    "#         \"characters\": [\n",
    "#             {\n",
    "#                 \"name\": \"Pikachu\",\n",
    "#                 \"height\": 4,\n",
    "#                 \"weight\": 60,\n",
    "#                 \"stats\": {\n",
    "#                     \"health (hp)\": 35,\n",
    "#                     \"attack\": 55,\n",
    "#                     \"defense\": 40,\n",
    "#                     \"speed\": 90\n",
    "#                 },\n",
    "#                 \"abilities\": [\n",
    "#                     {\n",
    "#                         \"name\": \"lightning-rod\"\n",
    "#                     },\n",
    "#                     {\n",
    "#                         \"name\": \"static\"\n",
    "#                     }\n",
    "#                 ]\n",
    "#             }\n",
    "#         ],\n",
    "#         \"statistics\": {\n",
    "#             \"average height\": 55.0,\n",
    "#             \"average weight\": 55.0,\n",
    "#             \"average health\": 55.0,\n",
    "#             \"average attack\": 55.0,\n",
    "#             \"average defense\": 55.0,\n",
    "#             \"average speed\": 55.0\n",
    "#         }\n",
    "#     },\n",
    "#     \"Water\": {\n",
    "#         \"characters\": [\n",
    "#             { ... }\n",
    "#         ],\n",
    "#         \"statistics\": { ... }\n",
    "#     }\n",
    "# }"
   ]
  },
  {
   "cell_type": "code",
   "execution_count": 11,
   "metadata": {
    "scrolled": false
   },
   "outputs": [
    {
     "name": "stdout",
     "output_type": "stream",
     "text": [
      "charmander\n",
      "charizard\n",
      "vulpix\n",
      "ninetales\n",
      "growlithe\n",
      "arcanine\n",
      "squirtle\n",
      "wartortle\n",
      "blastoise\n",
      "psyduck\n",
      "golduck\n",
      "poliwrath\n",
      "oddish\n",
      "gloom\n",
      "vileplume\n",
      "bellsprout\n",
      "weepinbell\n",
      "victreebel\n",
      "regirock\n",
      "cranidos\n",
      "rampardos\n",
      "bonsly\n",
      "probopass\n",
      "archen\n",
      "tynamo\n",
      "eelektrik\n",
      "tapu-koko\n",
      "xurkitree\n",
      "zeraora\n",
      "{'electric': [<__main__.Pokenmons object at 0x7f82bf3d5f40>, <__main__.Pokenmons object at 0x7f82bf489be0>, <__main__.Pokenmons object at 0x7f82bf807c70>, <__main__.Pokenmons object at 0x7f82bf807040>, <__main__.Pokenmons object at 0x7f82bf8076d0>], 'water': [<__main__.Pokenmons object at 0x7f82bf3d5f70>, <__main__.Pokenmons object at 0x7f82bf3d57c0>, <__main__.Pokenmons object at 0x7f82bf48b460>, <__main__.Pokenmons object at 0x7f82bf3d5d60>, <__main__.Pokenmons object at 0x7f82bf48ba30>, <__main__.Pokenmons object at 0x7f82bf48b850>], 'rock': [<__main__.Pokenmons object at 0x7f82bf428b50>, <__main__.Pokenmons object at 0x7f82bd392ac0>, <__main__.Pokenmons object at 0x7f82bf673a30>, <__main__.Pokenmons object at 0x7f82bf63ee80>, <__main__.Pokenmons object at 0x7f82bf43d700>, <__main__.Pokenmons object at 0x7f82bf534c70>], 'grass': [<__main__.Pokenmons object at 0x7f82bf487ca0>, <__main__.Pokenmons object at 0x7f82bf84a5e0>, <__main__.Pokenmons object at 0x7f82bf84adc0>, <__main__.Pokenmons object at 0x7f82bf48bac0>, <__main__.Pokenmons object at 0x7f82bf696f70>, <__main__.Pokenmons object at 0x7f82bf673ac0>], 'fire': [<__main__.Pokenmons object at 0x7f82bf3d5d30>, <__main__.Pokenmons object at 0x7f82bf3d5580>, <__main__.Pokenmons object at 0x7f82bf3da130>, <__main__.Pokenmons object at 0x7f82bf48b5b0>, <__main__.Pokenmons object at 0x7f82bf4872e0>, <__main__.Pokenmons object at 0x7f82bf3d58e0>]}\n"
     ]
    },
    {
     "ename": "SyntaxError",
     "evalue": "'return' outside function (<ipython-input-11-2919040581da>, line 54)",
     "output_type": "error",
     "traceback": [
      "\u001b[0;36m  File \u001b[0;32m\"<ipython-input-11-2919040581da>\"\u001b[0;36m, line \u001b[0;32m54\u001b[0m\n\u001b[0;31m    return (pokenmon_dict.append(user_input))\u001b[0m\n\u001b[0m    ^\u001b[0m\n\u001b[0;31mSyntaxError\u001b[0m\u001b[0;31m:\u001b[0m 'return' outside function\n"
     ]
    }
   ],
   "source": [
    "import requests\n",
    "# main class\n",
    "class Pokenmons:\n",
    "    def __init__(self, name, ability, type_):\n",
    "        self.name = name\n",
    "        self.ability = ability\n",
    "        self.type = type_\n",
    "\n",
    "        def __repr__(self):\n",
    "            return f'<Pokenmons: {self.name}>'\n",
    "        \n",
    "#         def __str__(self.name):\n",
    "#             return f'{self.name.title()}'\n",
    "        \n",
    "one_list = ['charmander', 'Charizard','Vulpix','Ninetales','Growlithe', 'Arcanine', 'Squirtle', 'Wartortle', 'Blastoise','Psyduck','Golduck','Poliwrath','Oddish', 'Gloom', 'Vileplume','Bellsprout','Weepinbell','Victreebel', 'Regirock', 'Cranidos', 'Rampardos','Bonsly','Probopass','Archen', 'Tynamo', 'Eelektrik', 'Tapu Koko','Xurkitree','Zeraora']\n",
    "\n",
    "pokenmon_dict = {\n",
    "    'electric': [],\n",
    "    'water': [],\n",
    "    'rock': [],\n",
    "    'grass': [],\n",
    "    'fire': [],\n",
    "}\n",
    "\n",
    "for character in one_list:\n",
    "    character = character.lower()\n",
    "    character = character.replace(' ', '-')\n",
    "    print(character)\n",
    "    page_link = f'https://pokeapi.co/api/v2/pokemon/{character}'\n",
    "\n",
    "    page = requests.get(page_link)\n",
    "\n",
    "    data = page.json()\n",
    "\n",
    "    pokenmon = data\n",
    "\n",
    "#     new_dict = {\n",
    "#         'abilities': pokenmon['abilities'],\n",
    "#         'name': pokenmon['name'],\n",
    "#         'stats': pokenmon['stats'],\n",
    "#     }\n",
    "\n",
    "    new_pokenmon = Pokenmons(pokenmon['name'], pokenmon['abilities'], pokenmon['types'][0]['type']['name'])\n",
    "    pokenmon_dict[new_pokenmon.type].append(new_pokenmon)\n",
    "    \n",
    "print(pokenmon_dict)\n",
    "\n",
    "# Adding pokenmon characters \n",
    "class show_instructions():\n",
    "    input(\"\"\"Type name of character to add Pokenmon to your cart. \n",
    "    Type 'quit' to exit the program.\"\"\")\n",
    "    \n",
    "    class user_input(self):\n",
    "            return (pokenmon_dict.append(user_input))"
   ]
  },
  {
   "cell_type": "code",
   "execution_count": null,
   "metadata": {},
   "outputs": [],
   "source": []
  }
 ],
 "metadata": {
  "colab": {
   "name": "Pokemon Coding Challenge.ipynb",
   "provenance": []
  },
  "kernelspec": {
   "display_name": "Python 3",
   "language": "python",
   "name": "python3"
  }
 },
 "nbformat": 4,
 "nbformat_minor": 1
}
